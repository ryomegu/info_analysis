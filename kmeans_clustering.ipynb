{
  "nbformat": 4,
  "nbformat_minor": 0,
  "metadata": {
    "colab": {
      "name": "Untitled0.ipynb",
      "provenance": [],
      "collapsed_sections": []
    },
    "kernelspec": {
      "name": "python3",
      "display_name": "Python 3"
    },
    "language_info": {
      "name": "python"
    }
  },
  "cells": [
    {
      "cell_type": "code",
      "metadata": {
        "id": "irsxlazibsqd"
      },
      "source": [
        "import nltk\n",
        "import numpy as np\n",
        "import pandas as pd"
      ],
      "execution_count": 1,
      "outputs": []
    },
    {
      "cell_type": "code",
      "metadata": {
        "colab": {
          "base_uri": "https://localhost:8080/"
        },
        "id": "JVz3Iz8wcc5L",
        "outputId": "3793b808-eca1-4cdb-da89-5c3c27a49250"
      },
      "source": [
        "nltk.download(\"stopwords\")\n",
        "nltk.download(\"wordnet\")\n",
        "nltk.download(\"punkt\")"
      ],
      "execution_count": 2,
      "outputs": [
        {
          "output_type": "stream",
          "text": [
            "[nltk_data] Downloading package stopwords to /root/nltk_data...\n",
            "[nltk_data]   Unzipping corpora/stopwords.zip.\n",
            "[nltk_data] Downloading package wordnet to /root/nltk_data...\n",
            "[nltk_data]   Unzipping corpora/wordnet.zip.\n",
            "[nltk_data] Downloading package punkt to /root/nltk_data...\n",
            "[nltk_data]   Unzipping tokenizers/punkt.zip.\n"
          ],
          "name": "stdout"
        },
        {
          "output_type": "execute_result",
          "data": {
            "text/plain": [
              "True"
            ]
          },
          "metadata": {
            "tags": []
          },
          "execution_count": 2
        }
      ]
    },
    {
      "cell_type": "code",
      "metadata": {
        "id": "q9wxnRKHcxO_"
      },
      "source": [
        "dataset = pd.read_csv('/content/20newsgroup_preprocessed.csv', delimiter=';')"
      ],
      "execution_count": 3,
      "outputs": []
    },
    {
      "cell_type": "code",
      "metadata": {
        "id": "o4l82mskjnNM"
      },
      "source": [
        "dataset = dataset.dropna()"
      ],
      "execution_count": 4,
      "outputs": []
    },
    {
      "cell_type": "code",
      "metadata": {
        "id": "rvG5HZgH-j0P"
      },
      "source": [
        "# Extract columns that are needed\n",
        "dataset = dataset[['target', 'text_cleaned']]"
      ],
      "execution_count": 5,
      "outputs": []
    },
    {
      "cell_type": "code",
      "metadata": {
        "id": "qjp3Mxbl-3ua"
      },
      "source": [
        "dataset_shuffle = dataset.sample(frac=1, random_state=0)\n"
      ],
      "execution_count": 6,
      "outputs": []
    },
    {
      "cell_type": "code",
      "metadata": {
        "id": "w4VXpQ2ymzgc"
      },
      "source": [
        "reduced_dataset = pd.DataFrame([], columns=['target', 'text', 'text_cleaned'])\n",
        "\n",
        "# 各ジャンル40文書抽出\n",
        "for gunre in dataset['target'].unique():\n",
        "    dataset_gunre = dataset_shuffle[dataset_shuffle['target']==gunre]\n",
        "    dataset_gunre = dataset_gunre.iloc[0:40, :]\n",
        "    reduced_dataset =  pd.concat([reduced_dataset, dataset_gunre], axis=0)\n",
        "\n",
        "dataset = reduced_dataset.reset_index(drop=True)\n"
      ],
      "execution_count": 7,
      "outputs": []
    },
    {
      "cell_type": "code",
      "metadata": {
        "id": "z10LEgXF_ygx"
      },
      "source": [
        "# Tokenization\n",
        "text_cleaned = list(dataset['text_cleaned'])\n",
        "\n",
        "def tokenize(text):\n",
        "    text = text.split(' ')\n",
        "    return text\n",
        "\n",
        "text_tokenized = [tokenize(text) for text in text_cleaned]"
      ],
      "execution_count": 8,
      "outputs": []
    },
    {
      "cell_type": "code",
      "metadata": {
        "id": "F0IQlCW2KWnf"
      },
      "source": [
        "# Steming, Lemmatize\n",
        "from nltk.corpus import wordnet as wn\n",
        "\n",
        "def lemmatize_word(word):\n",
        "    word=word.lower()\n",
        "    \n",
        "    lemma = wn.morphy(word)\n",
        "    if lemma is None:\n",
        "        return word\n",
        "    else:\n",
        "        return lemma\n",
        "\n",
        "\n",
        "# Remove stop words and too short words\n",
        "def remove_stopwords(word, stopwordset):\n",
        "    if word in stopwordset or len(word) <= 2:\n",
        "        return None\n",
        "    else:\n",
        "        return word\n",
        "\n",
        "\n",
        "en_stop = nltk.corpus.stopwords.words('english')\n",
        "\n",
        "text_lemmatized = []\n",
        "documents = []\n",
        "\n",
        "# Aparently, this dataset does not include 'the', 'of', and so on, \n",
        "# but remove stop words just to be sure\n",
        "for text in text_tokenized:\n",
        "    text_lemmatized = [remove_stopwords(lemmatize_word(word), en_stop) for word in text]\n",
        "    documents.append([word for word in text_lemmatized if word is not None])"
      ],
      "execution_count": 9,
      "outputs": []
    },
    {
      "cell_type": "code",
      "metadata": {
        "colab": {
          "base_uri": "https://localhost:8080/"
        },
        "id": "1mRKB3GM4B1e",
        "outputId": "e153c3b8-8674-4a29-fdf2-eae8d444e117"
      },
      "source": [
        "len(documents)"
      ],
      "execution_count": 48,
      "outputs": [
        {
          "output_type": "execute_result",
          "data": {
            "text/plain": [
              "800"
            ]
          },
          "metadata": {
            "tags": []
          },
          "execution_count": 48
        }
      ]
    },
    {
      "cell_type": "code",
      "metadata": {
        "id": "uOlfecKR_Ksj"
      },
      "source": [
        "word2id = {}\n",
        "counter = 0\n",
        "for document in documents:\n",
        "    for word in document:\n",
        "        if word not in word2id.keys():\n",
        "            word2id[word] = counter\n",
        "            counter += 1\n"
      ],
      "execution_count": 10,
      "outputs": []
    },
    {
      "cell_type": "code",
      "metadata": {
        "id": "bbwYjW0p-p1t"
      },
      "source": [
        "collection = nltk.TextCollection(documents)\n",
        "terms = list(set(collection))\n",
        "tf_idf = []\n",
        "for index, doc in enumerate(documents):\n",
        "    tmp_vec = np.zeros(len(word2id))\n",
        "    for term in word2id.keys():\n",
        "        tmp_vec[word2id[term]] = collection.tf_idf(term, doc)\n",
        "    tf_idf.append(list(tmp_vec))"
      ],
      "execution_count": 11,
      "outputs": []
    },
    {
      "cell_type": "code",
      "metadata": {
        "id": "nBBm--zEc2RV"
      },
      "source": [
        "from nltk.cluster.kmeans import KMeansClusterer\n",
        "from nltk.cluster.util import cosine_distance\n",
        "\n",
        "# トピック数に設定\n",
        "num_clusters = 20\n",
        "km20 = KMeansClusterer(num_clusters, distance=cosine_distance, repeats=10)"
      ],
      "execution_count": 17,
      "outputs": []
    },
    {
      "cell_type": "code",
      "metadata": {
        "id": "6GY7Zx3NgSLY"
      },
      "source": [
        "tf_idf = np.array(tf_idf)"
      ],
      "execution_count": 18,
      "outputs": []
    },
    {
      "cell_type": "code",
      "metadata": {
        "id": "yeR567oTdxsO"
      },
      "source": [
        "clusters = km20.cluster(tf_idf, assign_clusters=True)"
      ],
      "execution_count": 19,
      "outputs": []
    },
    {
      "cell_type": "code",
      "metadata": {
        "id": "O77L1009i755"
      },
      "source": [
        "dataset20_cluster_num = pd.concat([dataset, pd.Series(clusters)], axis=1)\n",
        "\n",
        "d20cn = dataset20_cluster_num.rename(columns={0: \"cluster_num\"})"
      ],
      "execution_count": 20,
      "outputs": []
    },
    {
      "cell_type": "code",
      "metadata": {
        "colab": {
          "base_uri": "https://localhost:8080/"
        },
        "id": "J1CREVyDkM5F",
        "outputId": "3a478866-8f66-4567-b9f5-ab6fb308d6c1"
      },
      "source": [
        "d20cn[\"cluster_num\"].value_counts()"
      ],
      "execution_count": 21,
      "outputs": [
        {
          "output_type": "execute_result",
          "data": {
            "text/plain": [
              "0     89\n",
              "3     83\n",
              "10    60\n",
              "14    55\n",
              "2     49\n",
              "9     49\n",
              "7     48\n",
              "13    46\n",
              "17    45\n",
              "19    37\n",
              "15    34\n",
              "8     33\n",
              "18    29\n",
              "5     26\n",
              "16    23\n",
              "1     22\n",
              "12    21\n",
              "6     19\n",
              "11    18\n",
              "4     14\n",
              "Name: cluster_num, dtype: int64"
            ]
          },
          "metadata": {
            "tags": []
          },
          "execution_count": 21
        }
      ]
    },
    {
      "cell_type": "code",
      "metadata": {
        "colab": {
          "base_uri": "https://localhost:8080/"
        },
        "id": "iKtdrYgWlQVx",
        "outputId": "e942900a-a8b4-4cfb-a505-1b7e103bd2cf"
      },
      "source": [
        "for i in range(20):\n",
        "    print(\"Result of cluster No.{}\".format(i))\n",
        "    print(d20cn[d20cn[\"cluster_num\"]==i][\"target\"].value_counts())\n",
        "    print(\"\\n\")"
      ],
      "execution_count": 22,
      "outputs": [
        {
          "output_type": "stream",
          "text": [
            "Result of cluster No.0\n",
            "soc.religion.christian    23\n",
            "talk.religion.misc        19\n",
            "alt.atheism               13\n",
            "talk.politics.mideast      9\n",
            "talk.politics.guns         8\n",
            "talk.politics.misc         6\n",
            "sci.med                    3\n",
            "sci.space                  2\n",
            "rec.sport.baseball         2\n",
            "misc.forsale               1\n",
            "comp.graphics              1\n",
            "rec.motorcycles            1\n",
            "rec.autos                  1\n",
            "Name: target, dtype: int64\n",
            "\n",
            "\n",
            "Result of cluster No.1\n",
            "comp.sys.mac.hardware       4\n",
            "talk.politics.mideast       2\n",
            "misc.forsale                2\n",
            "sci.med                     2\n",
            "comp.graphics               2\n",
            "rec.sport.baseball          2\n",
            "comp.sys.ibm.pc.hardware    2\n",
            "sci.electronics             2\n",
            "rec.sport.hockey            1\n",
            "rec.autos                   1\n",
            "talk.politics.guns          1\n",
            "alt.atheism                 1\n",
            "Name: target, dtype: int64\n",
            "\n",
            "\n",
            "Result of cluster No.2\n",
            "sci.med                    6\n",
            "sci.space                  5\n",
            "talk.politics.guns         5\n",
            "rec.sport.hockey           5\n",
            "alt.atheism                4\n",
            "rec.motorcycles            4\n",
            "rec.sport.baseball         4\n",
            "soc.religion.christian     3\n",
            "rec.autos                  3\n",
            "talk.religion.misc         3\n",
            "talk.politics.mideast      2\n",
            "comp.os.ms-windows.misc    1\n",
            "misc.forsale               1\n",
            "comp.windows.x             1\n",
            "talk.politics.misc         1\n",
            "comp.graphics              1\n",
            "Name: target, dtype: int64\n",
            "\n",
            "\n",
            "Result of cluster No.3\n",
            "sci.crypt                   20\n",
            "rec.motorcycles              6\n",
            "comp.sys.ibm.pc.hardware     5\n",
            "talk.politics.misc           5\n",
            "sci.electronics              5\n",
            "comp.graphics                5\n",
            "talk.politics.guns           4\n",
            "sci.med                      4\n",
            "rec.sport.baseball           4\n",
            "rec.sport.hockey             4\n",
            "rec.autos                    4\n",
            "comp.os.ms-windows.misc      3\n",
            "soc.religion.christian       3\n",
            "sci.space                    2\n",
            "alt.atheism                  2\n",
            "comp.windows.x               2\n",
            "misc.forsale                 2\n",
            "comp.sys.mac.hardware        2\n",
            "talk.religion.misc           1\n",
            "Name: target, dtype: int64\n",
            "\n",
            "\n",
            "Result of cluster No.4\n",
            "sci.med                    2\n",
            "sci.space                  2\n",
            "comp.sys.mac.hardware      2\n",
            "talk.politics.mideast      2\n",
            "alt.atheism                2\n",
            "rec.sport.hockey           1\n",
            "comp.os.ms-windows.misc    1\n",
            "talk.politics.guns         1\n",
            "sci.crypt                  1\n",
            "Name: target, dtype: int64\n",
            "\n",
            "\n",
            "Result of cluster No.5\n",
            "talk.politics.mideast     7\n",
            "rec.sport.baseball        7\n",
            "comp.sys.mac.hardware     3\n",
            "comp.graphics             2\n",
            "rec.sport.hockey          1\n",
            "rec.motorcycles           1\n",
            "talk.politics.guns        1\n",
            "soc.religion.christian    1\n",
            "sci.electronics           1\n",
            "comp.windows.x            1\n",
            "talk.politics.misc        1\n",
            "Name: target, dtype: int64\n",
            "\n",
            "\n",
            "Result of cluster No.6\n",
            "comp.sys.ibm.pc.hardware    5\n",
            "comp.os.ms-windows.misc     4\n",
            "comp.windows.x              2\n",
            "rec.sport.baseball          2\n",
            "sci.electronics             2\n",
            "rec.motorcycles             1\n",
            "sci.med                     1\n",
            "talk.religion.misc          1\n",
            "alt.atheism                 1\n",
            "Name: target, dtype: int64\n",
            "\n",
            "\n",
            "Result of cluster No.7\n",
            "sci.crypt                  10\n",
            "talk.politics.guns          9\n",
            "rec.motorcycles             4\n",
            "sci.space                   4\n",
            "rec.sport.hockey            3\n",
            "sci.electronics             3\n",
            "soc.religion.christian      3\n",
            "misc.forsale                2\n",
            "comp.windows.x              2\n",
            "talk.politics.misc          2\n",
            "comp.os.ms-windows.misc     1\n",
            "talk.politics.mideast       1\n",
            "alt.atheism                 1\n",
            "comp.sys.mac.hardware       1\n",
            "rec.autos                   1\n",
            "rec.sport.baseball          1\n",
            "Name: target, dtype: int64\n",
            "\n",
            "\n",
            "Result of cluster No.8\n",
            "rec.sport.hockey           10\n",
            "rec.sport.baseball          6\n",
            "talk.politics.misc          3\n",
            "talk.politics.mideast       3\n",
            "alt.atheism                 3\n",
            "rec.motorcycles             2\n",
            "talk.politics.guns          2\n",
            "comp.os.ms-windows.misc     1\n",
            "rec.autos                   1\n",
            "soc.religion.christian      1\n",
            "sci.med                     1\n",
            "Name: target, dtype: int64\n",
            "\n",
            "\n",
            "Result of cluster No.9\n",
            "comp.graphics               15\n",
            "comp.windows.x               6\n",
            "comp.sys.mac.hardware        5\n",
            "sci.electronics              5\n",
            "comp.sys.ibm.pc.hardware     4\n",
            "comp.os.ms-windows.misc      3\n",
            "misc.forsale                 3\n",
            "rec.autos                    2\n",
            "sci.med                      2\n",
            "talk.politics.mideast        2\n",
            "soc.religion.christian       1\n",
            "alt.atheism                  1\n",
            "Name: target, dtype: int64\n",
            "\n",
            "\n",
            "Result of cluster No.10\n",
            "misc.forsale                8\n",
            "comp.sys.mac.hardware       8\n",
            "sci.electronics             7\n",
            "comp.sys.ibm.pc.hardware    5\n",
            "sci.med                     5\n",
            "comp.windows.x              4\n",
            "comp.graphics               4\n",
            "rec.motorcycles             4\n",
            "talk.politics.mideast       3\n",
            "rec.autos                   3\n",
            "talk.religion.misc          2\n",
            "rec.sport.hockey            2\n",
            "rec.sport.baseball          1\n",
            "sci.space                   1\n",
            "soc.religion.christian      1\n",
            "sci.crypt                   1\n",
            "talk.politics.guns          1\n",
            "Name: target, dtype: int64\n",
            "\n",
            "\n",
            "Result of cluster No.11\n",
            "comp.os.ms-windows.misc     2\n",
            "sci.crypt                   2\n",
            "rec.sport.hockey            2\n",
            "sci.space                   1\n",
            "misc.forsale                1\n",
            "talk.politics.mideast       1\n",
            "comp.windows.x              1\n",
            "talk.politics.misc          1\n",
            "sci.electronics             1\n",
            "alt.atheism                 1\n",
            "rec.autos                   1\n",
            "sci.med                     1\n",
            "comp.graphics               1\n",
            "rec.sport.baseball          1\n",
            "comp.sys.ibm.pc.hardware    1\n",
            "Name: target, dtype: int64\n",
            "\n",
            "\n",
            "Result of cluster No.12\n",
            "talk.politics.misc         8\n",
            "rec.autos                  3\n",
            "talk.religion.misc         2\n",
            "rec.sport.hockey           1\n",
            "rec.motorcycles            1\n",
            "comp.os.ms-windows.misc    1\n",
            "sci.crypt                  1\n",
            "soc.religion.christian     1\n",
            "talk.politics.mideast      1\n",
            "sci.electronics            1\n",
            "alt.atheism                1\n",
            "Name: target, dtype: int64\n",
            "\n",
            "\n",
            "Result of cluster No.13\n",
            "talk.politics.misc        8\n",
            "talk.religion.misc        6\n",
            "alt.atheism               5\n",
            "rec.motorcycles           5\n",
            "sci.med                   5\n",
            "comp.windows.x            4\n",
            "talk.politics.guns        3\n",
            "misc.forsale              3\n",
            "rec.autos                 2\n",
            "soc.religion.christian    1\n",
            "talk.politics.mideast     1\n",
            "comp.sys.mac.hardware     1\n",
            "sci.electronics           1\n",
            "comp.graphics             1\n",
            "Name: target, dtype: int64\n",
            "\n",
            "\n",
            "Result of cluster No.14\n",
            "misc.forsale                11\n",
            "comp.sys.ibm.pc.hardware    11\n",
            "comp.windows.x               6\n",
            "comp.sys.mac.hardware        4\n",
            "sci.electronics              4\n",
            "comp.os.ms-windows.misc      3\n",
            "sci.med                      3\n",
            "talk.politics.misc           2\n",
            "rec.motorcycles              2\n",
            "rec.autos                    2\n",
            "talk.religion.misc           2\n",
            "talk.politics.mideast        1\n",
            "alt.atheism                  1\n",
            "comp.graphics                1\n",
            "talk.politics.guns           1\n",
            "sci.space                    1\n",
            "Name: target, dtype: int64\n",
            "\n",
            "\n",
            "Result of cluster No.15\n",
            "rec.autos                6\n",
            "alt.atheism              4\n",
            "rec.sport.hockey         3\n",
            "talk.politics.mideast    3\n",
            "rec.motorcycles          3\n",
            "rec.sport.baseball       3\n",
            "sci.crypt                2\n",
            "talk.politics.misc       2\n",
            "sci.electronics          2\n",
            "sci.space                2\n",
            "misc.forsale             1\n",
            "talk.politics.guns       1\n",
            "sci.med                  1\n",
            "talk.religion.misc       1\n",
            "Name: target, dtype: int64\n",
            "\n",
            "\n",
            "Result of cluster No.16\n",
            "rec.autos                   7\n",
            "comp.sys.ibm.pc.hardware    3\n",
            "rec.sport.hockey            2\n",
            "rec.motorcycles             2\n",
            "sci.med                     2\n",
            "comp.sys.mac.hardware       2\n",
            "talk.politics.guns          1\n",
            "comp.graphics               1\n",
            "talk.politics.mideast       1\n",
            "sci.electronics             1\n",
            "talk.religion.misc          1\n",
            "Name: target, dtype: int64\n",
            "\n",
            "\n",
            "Result of cluster No.17\n",
            "comp.os.ms-windows.misc     14\n",
            "misc.forsale                 4\n",
            "rec.sport.baseball           4\n",
            "comp.sys.ibm.pc.hardware     4\n",
            "comp.sys.mac.hardware        3\n",
            "sci.space                    3\n",
            "sci.electronics              2\n",
            "comp.graphics                2\n",
            "rec.motorcycles              2\n",
            "rec.autos                    2\n",
            "talk.politics.guns           2\n",
            "sci.crypt                    1\n",
            "talk.politics.misc           1\n",
            "sci.med                      1\n",
            "Name: target, dtype: int64\n",
            "\n",
            "\n",
            "Result of cluster No.18\n",
            "comp.windows.x             11\n",
            "comp.os.ms-windows.misc     4\n",
            "comp.graphics               3\n",
            "sci.space                   2\n",
            "rec.sport.hockey            2\n",
            "sci.electronics             2\n",
            "rec.motorcycles             1\n",
            "sci.crypt                   1\n",
            "talk.politics.mideast       1\n",
            "sci.med                     1\n",
            "rec.sport.baseball          1\n",
            "Name: target, dtype: int64\n",
            "\n",
            "\n",
            "Result of cluster No.19\n",
            "sci.space                  15\n",
            "comp.sys.mac.hardware       5\n",
            "rec.sport.hockey            3\n",
            "soc.religion.christian      2\n",
            "comp.os.ms-windows.misc     2\n",
            "talk.religion.misc          2\n",
            "rec.sport.baseball          2\n",
            "misc.forsale                1\n",
            "sci.crypt                   1\n",
            "sci.electronics             1\n",
            "rec.motorcycles             1\n",
            "rec.autos                   1\n",
            "comp.graphics               1\n",
            "Name: target, dtype: int64\n",
            "\n",
            "\n"
          ],
          "name": "stdout"
        }
      ]
    },
    {
      "cell_type": "code",
      "metadata": {
        "id": "-x3yN1Sf-VhH"
      },
      "source": [
        "dataset_11topic = dataset.copy()"
      ],
      "execution_count": 23,
      "outputs": []
    },
    {
      "cell_type": "markdown",
      "metadata": {
        "id": "rb_ObHdg_0l3"
      },
      "source": [
        "まずは，　token化\n",
        "steming\n",
        "tf_idf\n",
        "cosin\n",
        "kmeans"
      ]
    },
    {
      "cell_type": "code",
      "metadata": {
        "id": "MIiOxREulo-P"
      },
      "source": [
        "# 似ているカテゴリをまとめる\n",
        "# num_topics 20 -> 11\n",
        "dataset_11topic.loc[dataset_11topic['target'].isin(['comp.os.ms-windows.misc', 'comp.sys.ibm.pc.hardware', 'comp.sys.mac.hardware', 'comp.windows.x']), 'target'] = 'comp_pc'\n",
        "dataset_11topic.loc[dataset_11topic['target'].isin(['rec.autos', 'rec.motorcycles']), 'target'] = 'rec.vehicle'\n",
        "dataset_11topic.loc[dataset_11topic['target'].isin(['rec.sport.baseball', 'rec.sport.hockey']), 'target'] = 'rec_sport'\n",
        "dataset_11topic.loc[dataset_11topic['target'].isin(['talk.politics.guns', 'talk.politics.mideast', 'talk.politics.misc']), 'target'] = 'talk.politics'\n",
        "dataset_11topic.loc[dataset_11topic['target'].isin(['alt.atheism', 'soc.religion.christian', 'talk.religion.misc']), 'target'] = 'religion'"
      ],
      "execution_count": 24,
      "outputs": []
    },
    {
      "cell_type": "code",
      "metadata": {
        "colab": {
          "base_uri": "https://localhost:8080/"
        },
        "id": "UhbvQcvKFWoX",
        "outputId": "7cb06863-dc4b-42af-ec3a-f4efaa069d28"
      },
      "source": [
        "dataset_11topic['target'].unique().size"
      ],
      "execution_count": 25,
      "outputs": [
        {
          "output_type": "execute_result",
          "data": {
            "text/plain": [
              "11"
            ]
          },
          "metadata": {
            "tags": []
          },
          "execution_count": 25
        }
      ]
    },
    {
      "cell_type": "code",
      "metadata": {
        "id": "sIV9i1JfAU7a"
      },
      "source": [
        "# まとめた後のトピック数\n",
        "num_clusters = 11\n",
        "km11 = KMeansClusterer(num_clusters, distance=cosine_distance, repeats=10)"
      ],
      "execution_count": 26,
      "outputs": []
    },
    {
      "cell_type": "code",
      "metadata": {
        "id": "anhXUKvBAZdr"
      },
      "source": [
        "clusters = km11.cluster(tf_idf, assign_clusters=True)"
      ],
      "execution_count": 27,
      "outputs": []
    },
    {
      "cell_type": "code",
      "metadata": {
        "id": "ZmQ3eiyYBf25"
      },
      "source": [
        "dataset11_cluster_num = pd.concat([dataset_11topic, pd.Series(clusters)], axis=1)\n",
        "\n",
        "d11cn = dataset11_cluster_num.rename(columns={0: \"cluster_num\"})"
      ],
      "execution_count": 28,
      "outputs": []
    },
    {
      "cell_type": "code",
      "metadata": {
        "colab": {
          "base_uri": "https://localhost:8080/"
        },
        "id": "mA9WigRNAtIu",
        "outputId": "d636d15f-8de7-4147-ce6b-f6695290d970"
      },
      "source": [
        "d11cn[\"cluster_num\"].value_counts()"
      ],
      "execution_count": 29,
      "outputs": [
        {
          "output_type": "execute_result",
          "data": {
            "text/plain": [
              "0     279\n",
              "3     133\n",
              "1      78\n",
              "5      74\n",
              "6      52\n",
              "7      38\n",
              "2      37\n",
              "10     36\n",
              "9      32\n",
              "4      26\n",
              "8      15\n",
              "Name: cluster_num, dtype: int64"
            ]
          },
          "metadata": {
            "tags": []
          },
          "execution_count": 29
        }
      ]
    },
    {
      "cell_type": "code",
      "metadata": {
        "colab": {
          "base_uri": "https://localhost:8080/"
        },
        "id": "LFL8QQUXSKIQ",
        "outputId": "9778dada-8754-4b12-ebb4-3dd7ee7c3650"
      },
      "source": [
        "for i in range(11):\n",
        "    print(\"Result of cluster No.{}\".format(i))\n",
        "    print(d11cn[d11cn[\"cluster_num\"]==i][\"target\"].value_counts())\n",
        "    print(\"\\n\")"
      ],
      "execution_count": 30,
      "outputs": [
        {
          "output_type": "stream",
          "text": [
            "Result of cluster No.0\n",
            "talk.politics      72\n",
            "religion           62\n",
            "sci.crypt          29\n",
            "comp_pc            24\n",
            "rec_sport          23\n",
            "rec.vehicle        20\n",
            "sci.space          17\n",
            "sci.med            14\n",
            "sci.electronics    10\n",
            "comp.graphics       5\n",
            "misc.forsale        3\n",
            "Name: target, dtype: int64\n",
            "\n",
            "\n",
            "Result of cluster No.1\n",
            "comp_pc            17\n",
            "rec.vehicle        14\n",
            "religion           11\n",
            "misc.forsale       11\n",
            "rec_sport           7\n",
            "sci.crypt           4\n",
            "sci.electronics     4\n",
            "talk.politics       3\n",
            "comp.graphics       3\n",
            "sci.med             2\n",
            "sci.space           2\n",
            "Name: target, dtype: int64\n",
            "\n",
            "\n",
            "Result of cluster No.2\n",
            "religion           14\n",
            "talk.politics       9\n",
            "misc.forsale        3\n",
            "comp_pc             3\n",
            "sci.crypt           2\n",
            "sci.med             2\n",
            "sci.space           2\n",
            "rec_sport           1\n",
            "sci.electronics     1\n",
            "Name: target, dtype: int64\n",
            "\n",
            "\n",
            "Result of cluster No.3\n",
            "comp_pc            71\n",
            "comp.graphics      20\n",
            "misc.forsale       11\n",
            "rec_sport           7\n",
            "sci.electronics     7\n",
            "sci.med             5\n",
            "religion            3\n",
            "talk.politics       3\n",
            "sci.crypt           2\n",
            "rec.vehicle         2\n",
            "sci.space           2\n",
            "Name: target, dtype: int64\n",
            "\n",
            "\n",
            "Result of cluster No.4\n",
            "rec.vehicle        6\n",
            "sci.space          6\n",
            "comp_pc            4\n",
            "rec_sport          2\n",
            "talk.politics      2\n",
            "sci.med            2\n",
            "sci.electronics    2\n",
            "religion           1\n",
            "comp.graphics      1\n",
            "Name: target, dtype: int64\n",
            "\n",
            "\n",
            "Result of cluster No.5\n",
            "rec.vehicle        22\n",
            "rec_sport          11\n",
            "comp_pc             9\n",
            "talk.politics       8\n",
            "sci.med             7\n",
            "sci.electronics     5\n",
            "sci.space           4\n",
            "religion            3\n",
            "misc.forsale        2\n",
            "comp.graphics       2\n",
            "sci.crypt           1\n",
            "Name: target, dtype: int64\n",
            "\n",
            "\n",
            "Result of cluster No.6\n",
            "comp_pc            12\n",
            "religion           10\n",
            "talk.politics       7\n",
            "sci.electronics     7\n",
            "rec_sport           4\n",
            "comp.graphics       3\n",
            "sci.med             3\n",
            "misc.forsale        2\n",
            "rec.vehicle         2\n",
            "sci.crypt           1\n",
            "sci.space           1\n",
            "Name: target, dtype: int64\n",
            "\n",
            "\n",
            "Result of cluster No.7\n",
            "talk.politics      11\n",
            "rec_sport           8\n",
            "comp_pc             6\n",
            "religion            4\n",
            "misc.forsale        2\n",
            "sci.electronics     2\n",
            "sci.crypt           1\n",
            "comp.graphics       1\n",
            "rec.vehicle         1\n",
            "sci.med             1\n",
            "sci.space           1\n",
            "Name: target, dtype: int64\n",
            "\n",
            "\n",
            "Result of cluster No.8\n",
            "rec_sport          7\n",
            "misc.forsale       2\n",
            "religion           1\n",
            "sci.med            1\n",
            "rec.vehicle        1\n",
            "comp.graphics      1\n",
            "sci.electronics    1\n",
            "sci.space          1\n",
            "Name: target, dtype: int64\n",
            "\n",
            "\n",
            "Result of cluster No.9\n",
            "rec.vehicle        11\n",
            "comp_pc             6\n",
            "rec_sport           5\n",
            "misc.forsale        4\n",
            "religion            3\n",
            "comp.graphics       1\n",
            "sci.med             1\n",
            "sci.electronics     1\n",
            "Name: target, dtype: int64\n",
            "\n",
            "\n",
            "Result of cluster No.10\n",
            "religion         8\n",
            "comp_pc          8\n",
            "rec_sport        5\n",
            "talk.politics    5\n",
            "sci.space        4\n",
            "comp.graphics    3\n",
            "sci.med          2\n",
            "rec.vehicle      1\n",
            "Name: target, dtype: int64\n",
            "\n",
            "\n"
          ],
          "name": "stdout"
        }
      ]
    },
    {
      "cell_type": "code",
      "metadata": {
        "colab": {
          "base_uri": "https://localhost:8080/"
        },
        "id": "i1e98NjFNjfN",
        "outputId": "cf992a64-d375-4fa9-c5c6-29da40cbfec1"
      },
      "source": [
        "d11cn[\"target\"].unique()"
      ],
      "execution_count": 103,
      "outputs": [
        {
          "output_type": "execute_result",
          "data": {
            "text/plain": [
              "array(['religion', 'comp.graphics', 'comp_pc', 'misc.forsale',\n",
              "       'rec.vehicle', 'rec_sport', 'sci.crypt', 'sci.electronics',\n",
              "       'sci.med', 'sci.space', 'talk.politics'], dtype=object)"
            ]
          },
          "metadata": {
            "tags": []
          },
          "execution_count": 103
        }
      ]
    },
    {
      "cell_type": "code",
      "metadata": {
        "id": "LTWWz9gVO9pE"
      },
      "source": [
        "dataset_7topic = dataset_11topic.copy()\n",
        "\n",
        "# num_topics 11 -> 7\n",
        "dataset_7topic.loc[dataset_7topic[\"target\"].isin([\"comp.graphics\", \"comp_pc\", \"sci.crypt\", \"sci.electronics\"]), \"target\"] = \"comp\"\n",
        "dataset_7topic.loc[dataset_7topic[\"target\"].isin([\"rec.vehicle\", \"rec_sport\"]), \"target\"] = \"rec\"\n"
      ],
      "execution_count": 31,
      "outputs": []
    },
    {
      "cell_type": "code",
      "metadata": {
        "id": "Py3zR1HVA1Tz"
      },
      "source": [
        "# 大きなまとまりでのトピック数でクラスタリング\n",
        "num_clusters = 7\n",
        "km7 = KMeansClusterer(num_clusters, distance=cosine_distance, repeats=10)"
      ],
      "execution_count": 32,
      "outputs": []
    },
    {
      "cell_type": "code",
      "metadata": {
        "id": "Yeo7dXP_Bd_d"
      },
      "source": [
        "clusters = km7.cluster(tf_idf, assign_clusters=True)"
      ],
      "execution_count": 33,
      "outputs": []
    },
    {
      "cell_type": "code",
      "metadata": {
        "id": "tyz6RHr2SFf7"
      },
      "source": [
        "dataset7_cluster_num = pd.concat([dataset_7topic, pd.Series(clusters)], axis=1)\n",
        "\n",
        "d7cn = dataset7_cluster_num.rename(columns={0: \"cluster_num\"})"
      ],
      "execution_count": 36,
      "outputs": []
    },
    {
      "cell_type": "code",
      "metadata": {
        "colab": {
          "base_uri": "https://localhost:8080/"
        },
        "id": "4zpFxksBSUVC",
        "outputId": "f1282ef2-456a-4c7a-c17f-609df496d439"
      },
      "source": [
        "d7cn[\"cluster_num\"].value_counts()"
      ],
      "execution_count": 37,
      "outputs": [
        {
          "output_type": "execute_result",
          "data": {
            "text/plain": [
              "1    164\n",
              "4    155\n",
              "3    148\n",
              "0    136\n",
              "2     91\n",
              "5     84\n",
              "6     22\n",
              "Name: cluster_num, dtype: int64"
            ]
          },
          "metadata": {
            "tags": []
          },
          "execution_count": 37
        }
      ]
    },
    {
      "cell_type": "code",
      "metadata": {
        "colab": {
          "base_uri": "https://localhost:8080/"
        },
        "id": "pzl32ntLSPFN",
        "outputId": "1cfd52a6-3263-4e76-c7ff-d2a5849a55f5"
      },
      "source": [
        "for i in range(7):\n",
        "    print(\"Result of cluster No.{}\".format(i))\n",
        "    print(d7cn[d7cn[\"cluster_num\"]==i][\"target\"].value_counts())\n",
        "    print(\"\\n\")"
      ],
      "execution_count": 38,
      "outputs": [
        {
          "output_type": "stream",
          "text": [
            "Result of cluster No.0\n",
            "religion         75\n",
            "talk.politics    19\n",
            "comp             17\n",
            "rec              12\n",
            "sci.med           7\n",
            "misc.forsale      5\n",
            "sci.space         1\n",
            "Name: target, dtype: int64\n",
            "\n",
            "\n",
            "Result of cluster No.1\n",
            "comp             55\n",
            "talk.politics    49\n",
            "religion         21\n",
            "rec              20\n",
            "sci.med           9\n",
            "misc.forsale      5\n",
            "sci.space         5\n",
            "Name: target, dtype: int64\n",
            "\n",
            "\n",
            "Result of cluster No.2\n",
            "rec              32\n",
            "comp             31\n",
            "talk.politics     9\n",
            "sci.space         9\n",
            "religion          6\n",
            "misc.forsale      2\n",
            "sci.med           2\n",
            "Name: target, dtype: int64\n",
            "\n",
            "\n",
            "Result of cluster No.3\n",
            "comp             73\n",
            "rec              24\n",
            "talk.politics    22\n",
            "sci.space        10\n",
            "religion          7\n",
            "misc.forsale      7\n",
            "sci.med           5\n",
            "Name: target, dtype: int64\n",
            "\n",
            "\n",
            "Result of cluster No.4\n",
            "comp             84\n",
            "rec              20\n",
            "misc.forsale     14\n",
            "sci.med          12\n",
            "sci.space        11\n",
            "religion          7\n",
            "talk.politics     7\n",
            "Name: target, dtype: int64\n",
            "\n",
            "\n",
            "Result of cluster No.5\n",
            "rec              50\n",
            "comp             15\n",
            "misc.forsale      6\n",
            "talk.politics     5\n",
            "sci.space         4\n",
            "religion          2\n",
            "sci.med           2\n",
            "Name: target, dtype: int64\n",
            "\n",
            "\n",
            "Result of cluster No.6\n",
            "talk.politics    9\n",
            "comp             5\n",
            "sci.med          3\n",
            "religion         2\n",
            "rec              2\n",
            "misc.forsale     1\n",
            "Name: target, dtype: int64\n",
            "\n",
            "\n"
          ],
          "name": "stdout"
        }
      ]
    },
    {
      "cell_type": "code",
      "metadata": {
        "id": "YOxlUEjweTRQ"
      },
      "source": [
        "def labels_array(df):\n",
        "    return df['target'].unique() \n",
        "\n",
        "\n",
        "def max_n_ij(df, labels_array, cluster_num):\n",
        "    df_cn = df.loc[df[\"cluster_num\"]==cluster_num]\n",
        "    \n",
        "    precision_list = []\n",
        "    for j, label in enumerate(labels_array):\n",
        "        intersection_size = len(df_cn.loc[df[\"target\"]==label])\n",
        "        precision_list.append(intersection_size)\n",
        "\n",
        "    return np.array(precision_list).max()\n",
        "\n",
        "\n",
        "def max_recall(df, i, labels_array):\n",
        "    recall_list = []\n",
        "    for label in labels_array:\n",
        "        df_label = df.loc[df[\"target\"]==label]\n",
        "        df_label_size = len(df_label)\n",
        "\n",
        "        intersection_size = len(df_label.loc[df_label['cluster_num']==i])\n",
        "        \n",
        "        recall_list.append(intersection_size/df_label_size)\n",
        "    \n",
        "    return np.array(recall_list).max()\n",
        "\n",
        "\n",
        "def purity(df, labels_array, num_clusters):\n",
        "    n = len(df)\n",
        "\n",
        "    purity_part_list = []\n",
        "    for i in range(num_clusters):\n",
        "        max_n_ij_val = max_n_ij(df, labels_array, i)\n",
        "        purity_part_list.append(max_n_ij_val)\n",
        "\n",
        "    return sum(purity_part_list) / n\n",
        "\n",
        "\n",
        "def inverse_purity(df, labels_array, num_clusters):\n",
        "    n = len(df)\n",
        "\n",
        "    inverse_purity_part_list = []\n",
        "\n",
        "    for i in range(num_clusters):\n",
        "        max_recall_val = max_recall(df, i, labels_array)\n",
        "        cluster_size = len(df.loc[df['cluster_num']==i])\n",
        "        inverse_purity_part_list.append(cluster_size * max_recall_val)\n",
        "\n",
        "    return sum(inverse_purity_part_list) / n\n",
        "\n",
        "\n",
        "def F_measure(purity_val, inverse_purity_val):\n",
        "    return (2 * purity_val * inverse_purity_val) / (purity_val + inverse_purity_val)\n"
      ],
      "execution_count": 46,
      "outputs": []
    },
    {
      "cell_type": "code",
      "metadata": {
        "id": "6VXn6BjqjBYA"
      },
      "source": [
        "# Purity when num_clusters is 20, 11, 7\n",
        "purity20 = purity(d20cn, list(d20cn['target'].unique()), 20)\n",
        "purity11 = purity(d11cn, list(d11cn['target'].unique()), 11)\n",
        "purity7 = purity(d7cn, list(d7cn['target'].unique()), 7)"
      ],
      "execution_count": 43,
      "outputs": []
    },
    {
      "cell_type": "code",
      "metadata": {
        "id": "iVSLGVLXmjie"
      },
      "source": [
        "# Inverse purity when num_clusters is 20, 11, 7\n",
        "inverse_purity20 = inverse_purity(d20cn, list(d20cn['target'].unique()), 20)\n",
        "inverse_purity11 = inverse_purity(d11cn, list(d11cn['target'].unique()), 11)\n",
        "inverse_purity7 = inverse_purity(d7cn, list(d7cn['target'].unique()), 7)"
      ],
      "execution_count": 44,
      "outputs": []
    },
    {
      "cell_type": "code",
      "metadata": {
        "id": "bLYK9V9mm0W1"
      },
      "source": [
        "# F-measure\n",
        "F_measure20 = F_measure(purity20, inverse_purity20)\n",
        "F_measure11 = F_measure(purity11, inverse_purity11)\n",
        "F_measure7 = F_measure(purity7, inverse_purity7)"
      ],
      "execution_count": 47,
      "outputs": []
    },
    {
      "cell_type": "code",
      "metadata": {
        "colab": {
          "base_uri": "https://localhost:8080/"
        },
        "id": "oGOHVwsxn_X-",
        "outputId": "9c9f387f-4210-4c84-fbd0-2e86eedbe69b"
      },
      "source": [
        "# Result\n",
        "print(\"The purity when num_cluster is 20 is: \", round(purity20, 4))\n",
        "print(\"The purity when num_cluster is 11 is: \", round(purity11, 4))\n",
        "print(\"The purity when num_cluster is 7 is: \", round(purity7, 7))\n",
        "\n",
        "print(\"The inverse purity when num_cluster is 20 is:\", round(inverse_purity20, 4))\n",
        "print(\"The inverse purity when num_cluster is 11 is:\", round(inverse_purity11, 4))\n",
        "print(\"The inverse purity when num_cluster is 7 is:\", round(inverse_purity7, 4))\n",
        "\n",
        "print(\"The F-measure when num_cluster is 20 is:\", round(F_measure20, 4))\n",
        "print(\"The F-measure when num_cluster is 11 is:\", round(F_measure11, 4))\n",
        "print(\"The F-measure when num_cluster is 7 is:\", round(F_measure7, 4))"
      ],
      "execution_count": 49,
      "outputs": [
        {
          "output_type": "stream",
          "text": [
            "The purity when num_cluster is 20 is:  0.24\n",
            "The purity when num_cluster is 11 is:  0.3137\n",
            "The purity when num_cluster is 7 is:  0.4725\n",
            "The inverse purity when num_cluster is 20 is: 0.2958\n",
            "The inverse purity when num_cluster is 11 is: 0.4263\n",
            "The inverse purity when num_cluster is 7 is: 0.3665\n",
            "The F-measure when num_cluster is 20 is: 0.265\n",
            "The F-measure when num_cluster is 11 is: 0.3615\n",
            "The F-measure when num_cluster is 7 is: 0.4128\n"
          ],
          "name": "stdout"
        }
      ]
    }
  ]
}