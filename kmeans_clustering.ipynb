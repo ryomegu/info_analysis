{
  "nbformat": 4,
  "nbformat_minor": 0,
  "metadata": {
    "colab": {
      "name": "kmeans_clustering.ipynb",
      "provenance": [],
      "collapsed_sections": []
    },
    "kernelspec": {
      "name": "python3",
      "display_name": "Python 3"
    },
    "language_info": {
      "name": "python"
    }
  },
  "cells": [
    {
      "cell_type": "code",
      "metadata": {
        "id": "irsxlazibsqd"
      },
      "source": [
        "import nltk\n",
        "import numpy as np\n",
        "import pandas as pd"
      ],
      "execution_count": 1,
      "outputs": []
    },
    {
      "cell_type": "code",
      "metadata": {
        "colab": {
          "base_uri": "https://localhost:8080/"
        },
        "id": "JVz3Iz8wcc5L",
        "outputId": "44d2c1f7-5d9f-41c3-deaf-b90e3165232d"
      },
      "source": [
        "nltk.download(\"stopwords\")\n",
        "nltk.download(\"wordnet\")\n",
        "nltk.download(\"punkt\")"
      ],
      "execution_count": 2,
      "outputs": [
        {
          "output_type": "stream",
          "text": [
            "[nltk_data] Downloading package stopwords to /root/nltk_data...\n",
            "[nltk_data]   Unzipping corpora/stopwords.zip.\n",
            "[nltk_data] Downloading package wordnet to /root/nltk_data...\n",
            "[nltk_data]   Unzipping corpora/wordnet.zip.\n",
            "[nltk_data] Downloading package punkt to /root/nltk_data...\n",
            "[nltk_data]   Unzipping tokenizers/punkt.zip.\n"
          ],
          "name": "stdout"
        },
        {
          "output_type": "execute_result",
          "data": {
            "text/plain": [
              "True"
            ]
          },
          "metadata": {
            "tags": []
          },
          "execution_count": 2
        }
      ]
    },
    {
      "cell_type": "code",
      "metadata": {
        "id": "q9wxnRKHcxO_"
      },
      "source": [
        "dataset = pd.read_csv('/content/20newsgroup_preprocessed.csv', delimiter=';')"
      ],
      "execution_count": 3,
      "outputs": []
    },
    {
      "cell_type": "code",
      "metadata": {
        "id": "o4l82mskjnNM"
      },
      "source": [
        "dataset = dataset.dropna()"
      ],
      "execution_count": 4,
      "outputs": []
    },
    {
      "cell_type": "code",
      "metadata": {
        "id": "rvG5HZgH-j0P"
      },
      "source": [
        "# Extract columns that are needed\n",
        "dataset = dataset[['target', 'text_cleaned']]"
      ],
      "execution_count": 5,
      "outputs": []
    },
    {
      "cell_type": "code",
      "metadata": {
        "id": "qjp3Mxbl-3ua"
      },
      "source": [
        "dataset_shuffle = dataset.sample(frac=1, random_state=0)\n"
      ],
      "execution_count": 6,
      "outputs": []
    },
    {
      "cell_type": "code",
      "metadata": {
        "id": "w4VXpQ2ymzgc"
      },
      "source": [
        "reduced_dataset = pd.DataFrame([], columns=['target', 'text', 'text_cleaned'])\n",
        "\n",
        "# 各ジャンル40文書抽出\n",
        "for gunre in dataset['target'].unique():\n",
        "    dataset_gunre = dataset_shuffle[dataset_shuffle['target']==gunre]\n",
        "    dataset_gunre = dataset_gunre.iloc[0:40, :]\n",
        "    reduced_dataset =  pd.concat([reduced_dataset, dataset_gunre], axis=0)\n",
        "\n",
        "dataset = reduced_dataset.reset_index(drop=True)\n"
      ],
      "execution_count": 7,
      "outputs": []
    },
    {
      "cell_type": "code",
      "metadata": {
        "id": "z10LEgXF_ygx"
      },
      "source": [
        "# Tokenization\n",
        "text_cleaned = list(dataset['text_cleaned'])\n",
        "\n",
        "def tokenize(text):\n",
        "    text = text.split(' ')\n",
        "    return text\n",
        "\n",
        "text_tokenized = [tokenize(text) for text in text_cleaned]"
      ],
      "execution_count": 8,
      "outputs": []
    },
    {
      "cell_type": "code",
      "metadata": {
        "id": "F0IQlCW2KWnf"
      },
      "source": [
        "# Steming, Lemmatize\n",
        "from nltk.corpus import wordnet as wn\n",
        "\n",
        "def lemmatize_word(word):\n",
        "    word=word.lower()\n",
        "    \n",
        "    lemma = wn.morphy(word)\n",
        "    if lemma is None:\n",
        "        return word\n",
        "    else:\n",
        "        return lemma\n",
        "\n",
        "\n",
        "# Remove stop words and too short words\n",
        "def remove_stopwords(word, stopwordset):\n",
        "    if word in stopwordset or len(word) <= 2:\n",
        "        return None\n",
        "    else:\n",
        "        return word\n",
        "\n",
        "\n",
        "en_stop = nltk.corpus.stopwords.words('english')\n",
        "\n",
        "text_lemmatized = []\n",
        "documents = []\n",
        "\n",
        "# Aparently, this dataset does not include 'the', 'of', and so on, \n",
        "# but remove stop words just to be sure\n",
        "for text in text_tokenized:\n",
        "    text_lemmatized = [remove_stopwords(lemmatize_word(word), en_stop) for word in text]\n",
        "    documents.append([word for word in text_lemmatized if word is not None])"
      ],
      "execution_count": 9,
      "outputs": []
    },
    {
      "cell_type": "code",
      "metadata": {
        "colab": {
          "base_uri": "https://localhost:8080/"
        },
        "id": "1mRKB3GM4B1e",
        "outputId": "15d28e14-a736-4962-f2cb-1b681aac07e8"
      },
      "source": [
        "len(documents)"
      ],
      "execution_count": 10,
      "outputs": [
        {
          "output_type": "execute_result",
          "data": {
            "text/plain": [
              "800"
            ]
          },
          "metadata": {
            "tags": []
          },
          "execution_count": 10
        }
      ]
    },
    {
      "cell_type": "code",
      "metadata": {
        "id": "uOlfecKR_Ksj"
      },
      "source": [
        "word2id = {}\n",
        "counter = 0\n",
        "for document in documents:\n",
        "    for word in document:\n",
        "        if word not in word2id.keys():\n",
        "            word2id[word] = counter\n",
        "            counter += 1\n"
      ],
      "execution_count": 11,
      "outputs": []
    },
    {
      "cell_type": "code",
      "metadata": {
        "id": "bbwYjW0p-p1t"
      },
      "source": [
        "collection = nltk.TextCollection(documents)\n",
        "terms = list(set(collection))\n",
        "tf_idf = []\n",
        "for index, doc in enumerate(documents):\n",
        "    tmp_vec = np.zeros(len(word2id))\n",
        "    for term in word2id.keys():\n",
        "        tmp_vec[word2id[term]] = collection.tf_idf(term, doc)\n",
        "    tf_idf.append(list(tmp_vec))"
      ],
      "execution_count": 12,
      "outputs": []
    },
    {
      "cell_type": "code",
      "metadata": {
        "id": "nBBm--zEc2RV"
      },
      "source": [
        "from nltk.cluster.kmeans import KMeansClusterer\n",
        "from nltk.cluster.util import cosine_distance\n",
        "\n",
        "# トピック数に設定\n",
        "num_clusters = 20\n",
        "km20 = KMeansClusterer(num_clusters, distance=cosine_distance, repeats=10)"
      ],
      "execution_count": 13,
      "outputs": []
    },
    {
      "cell_type": "code",
      "metadata": {
        "id": "6GY7Zx3NgSLY"
      },
      "source": [
        "tf_idf = np.array(tf_idf)"
      ],
      "execution_count": 14,
      "outputs": []
    },
    {
      "cell_type": "code",
      "metadata": {
        "id": "yeR567oTdxsO"
      },
      "source": [
        "clusters = km20.cluster(tf_idf, assign_clusters=True)"
      ],
      "execution_count": 15,
      "outputs": []
    },
    {
      "cell_type": "code",
      "metadata": {
        "id": "O77L1009i755"
      },
      "source": [
        "dataset20_cluster_num = pd.concat([dataset, pd.Series(clusters)], axis=1)\n",
        "\n",
        "d20cn = dataset20_cluster_num.rename(columns={0: \"cluster_num\"})"
      ],
      "execution_count": 16,
      "outputs": []
    },
    {
      "cell_type": "code",
      "metadata": {
        "colab": {
          "base_uri": "https://localhost:8080/"
        },
        "id": "J1CREVyDkM5F",
        "outputId": "b5dbb837-730c-4891-d266-ea60757827aa"
      },
      "source": [
        "d20cn[\"cluster_num\"].value_counts()"
      ],
      "execution_count": 17,
      "outputs": [
        {
          "output_type": "execute_result",
          "data": {
            "text/plain": [
              "1     84\n",
              "14    76\n",
              "3     65\n",
              "11    65\n",
              "0     53\n",
              "4     51\n",
              "5     40\n",
              "15    37\n",
              "12    37\n",
              "10    36\n",
              "6     35\n",
              "17    35\n",
              "7     33\n",
              "9     32\n",
              "13    27\n",
              "2     22\n",
              "16    21\n",
              "8     18\n",
              "19    18\n",
              "18    15\n",
              "Name: cluster_num, dtype: int64"
            ]
          },
          "metadata": {
            "tags": []
          },
          "execution_count": 17
        }
      ]
    },
    {
      "cell_type": "code",
      "metadata": {
        "colab": {
          "base_uri": "https://localhost:8080/"
        },
        "id": "iKtdrYgWlQVx",
        "outputId": "d633ccd7-1374-4b4f-ad00-491133459bd3"
      },
      "source": [
        "for i in range(20):\n",
        "    print(\"Result of cluster No.{}\".format(i))\n",
        "    print(d20cn[d20cn[\"cluster_num\"]==i][\"target\"].value_counts())\n",
        "    print(\"\\n\")"
      ],
      "execution_count": 18,
      "outputs": [
        {
          "output_type": "stream",
          "text": [
            "Result of cluster No.0\n",
            "alt.atheism                10\n",
            "talk.religion.misc          9\n",
            "soc.religion.christian      8\n",
            "talk.politics.guns          7\n",
            "sci.med                     5\n",
            "rec.autos                   3\n",
            "rec.motorcycles             3\n",
            "comp.graphics               2\n",
            "sci.space                   2\n",
            "rec.sport.baseball          1\n",
            "comp.os.ms-windows.misc     1\n",
            "talk.politics.mideast       1\n",
            "talk.politics.misc          1\n",
            "Name: target, dtype: int64\n",
            "\n",
            "\n",
            "Result of cluster No.1\n",
            "alt.atheism                 20\n",
            "talk.politics.misc          12\n",
            "talk.politics.mideast       11\n",
            "talk.religion.misc           8\n",
            "sci.crypt                    6\n",
            "rec.motorcycles              6\n",
            "soc.religion.christian       4\n",
            "talk.politics.guns           4\n",
            "sci.med                      3\n",
            "sci.space                    3\n",
            "comp.sys.ibm.pc.hardware     2\n",
            "sci.electronics              2\n",
            "misc.forsale                 1\n",
            "comp.graphics                1\n",
            "rec.autos                    1\n",
            "Name: target, dtype: int64\n",
            "\n",
            "\n",
            "Result of cluster No.2\n",
            "sci.crypt                  5\n",
            "rec.motorcycles            4\n",
            "rec.autos                  4\n",
            "sci.electronics            3\n",
            "comp.os.ms-windows.misc    1\n",
            "misc.forsale               1\n",
            "soc.religion.christian     1\n",
            "comp.windows.x             1\n",
            "talk.politics.misc         1\n",
            "talk.politics.guns         1\n",
            "Name: target, dtype: int64\n",
            "\n",
            "\n",
            "Result of cluster No.3\n",
            "comp.sys.ibm.pc.hardware    14\n",
            "comp.os.ms-windows.misc     10\n",
            "comp.windows.x               9\n",
            "comp.sys.mac.hardware        7\n",
            "comp.graphics                6\n",
            "sci.space                    5\n",
            "sci.electronics              4\n",
            "rec.sport.baseball           2\n",
            "sci.med                      2\n",
            "talk.politics.mideast        2\n",
            "misc.forsale                 1\n",
            "sci.crypt                    1\n",
            "rec.motorcycles              1\n",
            "soc.religion.christian       1\n",
            "Name: target, dtype: int64\n",
            "\n",
            "\n",
            "Result of cluster No.4\n",
            "comp.os.ms-windows.misc     11\n",
            "comp.graphics                6\n",
            "comp.sys.mac.hardware        5\n",
            "comp.sys.ibm.pc.hardware     4\n",
            "sci.electronics              4\n",
            "sci.med                      4\n",
            "sci.space                    4\n",
            "rec.autos                    4\n",
            "sci.crypt                    2\n",
            "rec.motorcycles              2\n",
            "alt.atheism                  1\n",
            "soc.religion.christian       1\n",
            "talk.politics.guns           1\n",
            "talk.politics.mideast        1\n",
            "talk.politics.misc           1\n",
            "Name: target, dtype: int64\n",
            "\n",
            "\n",
            "Result of cluster No.5\n",
            "sci.med                     10\n",
            "sci.crypt                    4\n",
            "alt.atheism                  3\n",
            "rec.autos                    2\n",
            "comp.graphics                2\n",
            "comp.windows.x               2\n",
            "comp.sys.mac.hardware        2\n",
            "sci.electronics              2\n",
            "rec.sport.baseball           2\n",
            "sci.space                    2\n",
            "soc.religion.christian       1\n",
            "talk.politics.misc           1\n",
            "comp.os.ms-windows.misc      1\n",
            "rec.motorcycles              1\n",
            "talk.politics.mideast        1\n",
            "rec.sport.hockey             1\n",
            "comp.sys.ibm.pc.hardware     1\n",
            "misc.forsale                 1\n",
            "talk.religion.misc           1\n",
            "Name: target, dtype: int64\n",
            "\n",
            "\n",
            "Result of cluster No.6\n",
            "rec.autos                   7\n",
            "comp.sys.mac.hardware       5\n",
            "rec.motorcycles             4\n",
            "misc.forsale                3\n",
            "sci.crypt                   3\n",
            "comp.graphics               2\n",
            "comp.windows.x              2\n",
            "comp.sys.ibm.pc.hardware    2\n",
            "sci.electronics             2\n",
            "sci.med                     1\n",
            "talk.politics.guns          1\n",
            "comp.os.ms-windows.misc     1\n",
            "talk.politics.mideast       1\n",
            "sci.space                   1\n",
            "Name: target, dtype: int64\n",
            "\n",
            "\n",
            "Result of cluster No.7\n",
            "sci.med                    5\n",
            "comp.windows.x             5\n",
            "comp.graphics              4\n",
            "comp.os.ms-windows.misc    4\n",
            "rec.sport.baseball         2\n",
            "misc.forsale               2\n",
            "talk.politics.guns         2\n",
            "sci.space                  2\n",
            "rec.autos                  2\n",
            "rec.motorcycles            1\n",
            "sci.electronics            1\n",
            "rec.sport.hockey           1\n",
            "comp.sys.mac.hardware      1\n",
            "talk.religion.misc         1\n",
            "Name: target, dtype: int64\n",
            "\n",
            "\n",
            "Result of cluster No.8\n",
            "talk.politics.guns         4\n",
            "talk.politics.misc         3\n",
            "comp.graphics              2\n",
            "comp.os.ms-windows.misc    1\n",
            "sci.electronics            1\n",
            "rec.sport.baseball         1\n",
            "soc.religion.christian     1\n",
            "alt.atheism                1\n",
            "sci.space                  1\n",
            "comp.sys.mac.hardware      1\n",
            "talk.politics.mideast      1\n",
            "talk.religion.misc         1\n",
            "Name: target, dtype: int64\n",
            "\n",
            "\n",
            "Result of cluster No.9\n",
            "rec.sport.baseball          15\n",
            "rec.autos                    4\n",
            "comp.os.ms-windows.misc      2\n",
            "sci.space                    2\n",
            "talk.politics.mideast        2\n",
            "rec.sport.hockey             1\n",
            "rec.motorcycles              1\n",
            "misc.forsale                 1\n",
            "comp.windows.x               1\n",
            "comp.sys.ibm.pc.hardware     1\n",
            "sci.crypt                    1\n",
            "sci.electronics              1\n",
            "Name: target, dtype: int64\n",
            "\n",
            "\n",
            "Result of cluster No.10\n",
            "soc.religion.christian    12\n",
            "talk.religion.misc         8\n",
            "talk.politics.misc         5\n",
            "alt.atheism                3\n",
            "talk.politics.guns         3\n",
            "rec.motorcycles            1\n",
            "misc.forsale               1\n",
            "sci.space                  1\n",
            "comp.windows.x             1\n",
            "talk.politics.mideast      1\n",
            "Name: target, dtype: int64\n",
            "\n",
            "\n",
            "Result of cluster No.11\n",
            "rec.sport.hockey            24\n",
            "rec.sport.baseball          14\n",
            "misc.forsale                 5\n",
            "rec.motorcycles              5\n",
            "rec.autos                    2\n",
            "sci.med                      2\n",
            "comp.windows.x               2\n",
            "comp.sys.ibm.pc.hardware     2\n",
            "talk.politics.guns           2\n",
            "talk.religion.misc           2\n",
            "talk.politics.misc           2\n",
            "comp.graphics                1\n",
            "comp.os.ms-windows.misc      1\n",
            "talk.politics.mideast        1\n",
            "Name: target, dtype: int64\n",
            "\n",
            "\n",
            "Result of cluster No.12\n",
            "talk.politics.guns       10\n",
            "talk.politics.misc        6\n",
            "talk.politics.mideast     4\n",
            "misc.forsale              3\n",
            "comp.sys.mac.hardware     3\n",
            "sci.crypt                 2\n",
            "sci.space                 2\n",
            "talk.religion.misc        2\n",
            "rec.motorcycles           1\n",
            "comp.graphics             1\n",
            "sci.med                   1\n",
            "sci.electronics           1\n",
            "alt.atheism               1\n",
            "Name: target, dtype: int64\n",
            "\n",
            "\n",
            "Result of cluster No.13\n",
            "misc.forsale                12\n",
            "rec.autos                    8\n",
            "rec.motorcycles              3\n",
            "soc.religion.christian       1\n",
            "comp.graphics                1\n",
            "alt.atheism                  1\n",
            "comp.sys.ibm.pc.hardware     1\n",
            "Name: target, dtype: int64\n",
            "\n",
            "\n",
            "Result of cluster No.14\n",
            "comp.windows.x              14\n",
            "comp.sys.mac.hardware       10\n",
            "comp.sys.ibm.pc.hardware     9\n",
            "sci.space                    9\n",
            "sci.crypt                    8\n",
            "misc.forsale                 6\n",
            "comp.graphics                6\n",
            "comp.os.ms-windows.misc      4\n",
            "sci.electronics              4\n",
            "rec.motorcycles              3\n",
            "sci.med                      1\n",
            "talk.politics.guns           1\n",
            "talk.religion.misc           1\n",
            "Name: target, dtype: int64\n",
            "\n",
            "\n",
            "Result of cluster No.15\n",
            "sci.electronics            12\n",
            "comp.graphics               4\n",
            "sci.space                   3\n",
            "comp.sys.mac.hardware       3\n",
            "sci.med                     2\n",
            "comp.windows.x              2\n",
            "talk.politics.guns          2\n",
            "rec.autos                   2\n",
            "rec.motorcycles             1\n",
            "misc.forsale                1\n",
            "sci.crypt                   1\n",
            "comp.os.ms-windows.misc     1\n",
            "talk.politics.mideast       1\n",
            "rec.sport.hockey            1\n",
            "soc.religion.christian      1\n",
            "Name: target, dtype: int64\n",
            "\n",
            "\n",
            "Result of cluster No.16\n",
            "rec.sport.hockey            9\n",
            "rec.motorcycles             2\n",
            "sci.crypt                   2\n",
            "sci.electronics             1\n",
            "rec.sport.baseball          1\n",
            "sci.med                     1\n",
            "comp.graphics               1\n",
            "rec.autos                   1\n",
            "comp.windows.x              1\n",
            "talk.politics.misc          1\n",
            "comp.sys.ibm.pc.hardware    1\n",
            "Name: target, dtype: int64\n",
            "\n",
            "\n",
            "Result of cluster No.17\n",
            "soc.religion.christian      8\n",
            "talk.religion.misc          6\n",
            "comp.sys.ibm.pc.hardware    2\n",
            "sci.crypt                   2\n",
            "talk.politics.guns          2\n",
            "comp.os.ms-windows.misc     2\n",
            "sci.electronics             2\n",
            "rec.sport.hockey            2\n",
            "talk.politics.misc          2\n",
            "rec.motorcycles             1\n",
            "misc.forsale                1\n",
            "rec.sport.baseball          1\n",
            "comp.graphics               1\n",
            "talk.politics.mideast       1\n",
            "sci.med                     1\n",
            "sci.space                   1\n",
            "Name: target, dtype: int64\n",
            "\n",
            "\n",
            "Result of cluster No.18\n",
            "talk.politics.misc          5\n",
            "comp.sys.mac.hardware       3\n",
            "rec.sport.hockey            1\n",
            "misc.forsale                1\n",
            "soc.religion.christian      1\n",
            "talk.politics.mideast       1\n",
            "sci.med                     1\n",
            "comp.sys.ibm.pc.hardware    1\n",
            "sci.crypt                   1\n",
            "Name: target, dtype: int64\n",
            "\n",
            "\n",
            "Result of cluster No.19\n",
            "talk.politics.mideast    11\n",
            "sci.space                 2\n",
            "sci.crypt                 2\n",
            "talk.religion.misc        1\n",
            "rec.sport.baseball        1\n",
            "sci.med                   1\n",
            "Name: target, dtype: int64\n",
            "\n",
            "\n"
          ],
          "name": "stdout"
        }
      ]
    },
    {
      "cell_type": "code",
      "metadata": {
        "id": "-x3yN1Sf-VhH"
      },
      "source": [
        "dataset_11topic = dataset.copy()"
      ],
      "execution_count": 19,
      "outputs": []
    },
    {
      "cell_type": "markdown",
      "metadata": {
        "id": "rb_ObHdg_0l3"
      },
      "source": [
        "まずは，　token化\n",
        "steming\n",
        "tf_idf\n",
        "cosin\n",
        "kmeans"
      ]
    },
    {
      "cell_type": "code",
      "metadata": {
        "id": "MIiOxREulo-P"
      },
      "source": [
        "# 似ているカテゴリをまとめる\n",
        "# num_topics 20 -> 11\n",
        "dataset_11topic.loc[dataset_11topic['target'].isin(['comp.os.ms-windows.misc', 'comp.sys.ibm.pc.hardware', 'comp.sys.mac.hardware', 'comp.windows.x']), 'target'] = 'comp_pc'\n",
        "dataset_11topic.loc[dataset_11topic['target'].isin(['rec.autos', 'rec.motorcycles']), 'target'] = 'rec.vehicle'\n",
        "dataset_11topic.loc[dataset_11topic['target'].isin(['rec.sport.baseball', 'rec.sport.hockey']), 'target'] = 'rec_sport'\n",
        "dataset_11topic.loc[dataset_11topic['target'].isin(['talk.politics.guns', 'talk.politics.mideast', 'talk.politics.misc']), 'target'] = 'talk.politics'\n",
        "dataset_11topic.loc[dataset_11topic['target'].isin(['alt.atheism', 'soc.religion.christian', 'talk.religion.misc']), 'target'] = 'religion'"
      ],
      "execution_count": 20,
      "outputs": []
    },
    {
      "cell_type": "code",
      "metadata": {
        "colab": {
          "base_uri": "https://localhost:8080/"
        },
        "id": "UhbvQcvKFWoX",
        "outputId": "1ed4668c-b37d-40f7-b238-2abf85dffbb6"
      },
      "source": [
        "dataset_11topic['target'].unique().size"
      ],
      "execution_count": 21,
      "outputs": [
        {
          "output_type": "execute_result",
          "data": {
            "text/plain": [
              "11"
            ]
          },
          "metadata": {
            "tags": []
          },
          "execution_count": 21
        }
      ]
    },
    {
      "cell_type": "code",
      "metadata": {
        "id": "sIV9i1JfAU7a"
      },
      "source": [
        "# まとめた後のトピック数\n",
        "num_clusters = 11\n",
        "km11 = KMeansClusterer(num_clusters, distance=cosine_distance, repeats=10)"
      ],
      "execution_count": 22,
      "outputs": []
    },
    {
      "cell_type": "code",
      "metadata": {
        "id": "anhXUKvBAZdr"
      },
      "source": [
        "clusters = km11.cluster(tf_idf, assign_clusters=True)"
      ],
      "execution_count": 23,
      "outputs": []
    },
    {
      "cell_type": "code",
      "metadata": {
        "id": "ZmQ3eiyYBf25"
      },
      "source": [
        "dataset11_cluster_num = pd.concat([dataset_11topic, pd.Series(clusters)], axis=1)\n",
        "\n",
        "d11cn = dataset11_cluster_num.rename(columns={0: \"cluster_num\"})"
      ],
      "execution_count": 24,
      "outputs": []
    },
    {
      "cell_type": "code",
      "metadata": {
        "colab": {
          "base_uri": "https://localhost:8080/"
        },
        "id": "mA9WigRNAtIu",
        "outputId": "91e34de4-25db-47d8-893c-9047172ce4c6"
      },
      "source": [
        "d11cn[\"cluster_num\"].value_counts()"
      ],
      "execution_count": 25,
      "outputs": [
        {
          "output_type": "execute_result",
          "data": {
            "text/plain": [
              "8     120\n",
              "9      99\n",
              "7      98\n",
              "6      97\n",
              "0      91\n",
              "10     68\n",
              "5      68\n",
              "4      52\n",
              "1      51\n",
              "3      31\n",
              "2      25\n",
              "Name: cluster_num, dtype: int64"
            ]
          },
          "metadata": {
            "tags": []
          },
          "execution_count": 25
        }
      ]
    },
    {
      "cell_type": "code",
      "metadata": {
        "colab": {
          "base_uri": "https://localhost:8080/"
        },
        "id": "LFL8QQUXSKIQ",
        "outputId": "a0379eb6-5400-4c92-dd5f-1a53a69d0b00"
      },
      "source": [
        "for i in range(11):\n",
        "    print(\"Result of cluster No.{}\".format(i))\n",
        "    print(d11cn[d11cn[\"cluster_num\"]==i][\"target\"].value_counts())\n",
        "    print(\"\\n\")"
      ],
      "execution_count": 26,
      "outputs": [
        {
          "output_type": "stream",
          "text": [
            "Result of cluster No.0\n",
            "religion           45\n",
            "talk.politics      28\n",
            "sci.med             6\n",
            "comp_pc             4\n",
            "rec.vehicle         3\n",
            "sci.space           2\n",
            "sci.electronics     1\n",
            "comp.graphics       1\n",
            "rec_sport           1\n",
            "Name: target, dtype: int64\n",
            "\n",
            "\n",
            "Result of cluster No.1\n",
            "comp_pc            22\n",
            "sci.electronics     6\n",
            "comp.graphics       6\n",
            "misc.forsale        5\n",
            "religion            3\n",
            "rec.vehicle         2\n",
            "sci.space           2\n",
            "talk.politics       2\n",
            "sci.crypt           2\n",
            "sci.med             1\n",
            "Name: target, dtype: int64\n",
            "\n",
            "\n",
            "Result of cluster No.2\n",
            "religion           9\n",
            "comp_pc            6\n",
            "misc.forsale       2\n",
            "sci.crypt          2\n",
            "sci.electronics    1\n",
            "rec.vehicle        1\n",
            "comp.graphics      1\n",
            "rec_sport          1\n",
            "talk.politics      1\n",
            "sci.space          1\n",
            "Name: target, dtype: int64\n",
            "\n",
            "\n",
            "Result of cluster No.3\n",
            "comp_pc            10\n",
            "sci.med             7\n",
            "rec.vehicle         3\n",
            "sci.electronics     2\n",
            "misc.forsale        2\n",
            "rec_sport           2\n",
            "talk.politics       2\n",
            "religion            1\n",
            "comp.graphics       1\n",
            "sci.space           1\n",
            "Name: target, dtype: int64\n",
            "\n",
            "\n",
            "Result of cluster No.4\n",
            "religion           21\n",
            "talk.politics       9\n",
            "comp_pc             8\n",
            "rec_sport           4\n",
            "sci.electronics     3\n",
            "sci.space           2\n",
            "sci.med             2\n",
            "rec.vehicle         1\n",
            "comp.graphics       1\n",
            "sci.crypt           1\n",
            "Name: target, dtype: int64\n",
            "\n",
            "\n",
            "Result of cluster No.5\n",
            "rec_sport        50\n",
            "rec.vehicle       3\n",
            "misc.forsale      3\n",
            "comp_pc           3\n",
            "religion          2\n",
            "talk.politics     2\n",
            "sci.med           2\n",
            "comp.graphics     1\n",
            "sci.space         1\n",
            "sci.crypt         1\n",
            "Name: target, dtype: int64\n",
            "\n",
            "\n",
            "Result of cluster No.6\n",
            "talk.politics      43\n",
            "religion           17\n",
            "sci.med             8\n",
            "sci.space           7\n",
            "sci.crypt           6\n",
            "comp_pc             5\n",
            "rec.vehicle         4\n",
            "rec_sport           3\n",
            "sci.electronics     2\n",
            "misc.forsale        2\n",
            "Name: target, dtype: int64\n",
            "\n",
            "\n",
            "Result of cluster No.7\n",
            "comp_pc            46\n",
            "comp.graphics      16\n",
            "sci.electronics     8\n",
            "misc.forsale        5\n",
            "rec_sport           5\n",
            "talk.politics       5\n",
            "sci.space           4\n",
            "religion            3\n",
            "sci.med             3\n",
            "rec.vehicle         2\n",
            "sci.crypt           1\n",
            "Name: target, dtype: int64\n",
            "\n",
            "\n",
            "Result of cluster No.8\n",
            "comp_pc            26\n",
            "misc.forsale       17\n",
            "sci.crypt          17\n",
            "rec.vehicle        12\n",
            "rec_sport          10\n",
            "talk.politics      10\n",
            "religion            8\n",
            "sci.electronics     7\n",
            "sci.space           6\n",
            "sci.med             5\n",
            "comp.graphics       2\n",
            "Name: target, dtype: int64\n",
            "\n",
            "\n",
            "Result of cluster No.9\n",
            "rec.vehicle        47\n",
            "comp_pc            11\n",
            "talk.politics      10\n",
            "sci.space           8\n",
            "religion            6\n",
            "comp.graphics       6\n",
            "sci.electronics     4\n",
            "misc.forsale        2\n",
            "sci.med             2\n",
            "sci.crypt           2\n",
            "rec_sport           1\n",
            "Name: target, dtype: int64\n",
            "\n",
            "\n",
            "Result of cluster No.10\n",
            "comp_pc            19\n",
            "talk.politics       8\n",
            "sci.crypt           8\n",
            "sci.electronics     6\n",
            "sci.space           6\n",
            "religion            5\n",
            "comp.graphics       5\n",
            "sci.med             4\n",
            "rec_sport           3\n",
            "rec.vehicle         2\n",
            "misc.forsale        2\n",
            "Name: target, dtype: int64\n",
            "\n",
            "\n"
          ],
          "name": "stdout"
        }
      ]
    },
    {
      "cell_type": "code",
      "metadata": {
        "colab": {
          "base_uri": "https://localhost:8080/"
        },
        "id": "i1e98NjFNjfN",
        "outputId": "dd3b1116-d379-4f34-81fa-68fe9b41c5dd"
      },
      "source": [
        "d11cn[\"target\"].unique()"
      ],
      "execution_count": 27,
      "outputs": [
        {
          "output_type": "execute_result",
          "data": {
            "text/plain": [
              "array(['religion', 'comp.graphics', 'comp_pc', 'misc.forsale',\n",
              "       'rec.vehicle', 'rec_sport', 'sci.crypt', 'sci.electronics',\n",
              "       'sci.med', 'sci.space', 'talk.politics'], dtype=object)"
            ]
          },
          "metadata": {
            "tags": []
          },
          "execution_count": 27
        }
      ]
    },
    {
      "cell_type": "code",
      "metadata": {
        "id": "LTWWz9gVO9pE"
      },
      "source": [
        "dataset_7topic = dataset_11topic.copy()\n",
        "\n",
        "# num_topics 11 -> 7\n",
        "dataset_7topic.loc[dataset_7topic[\"target\"].isin([\"comp.graphics\", \"comp_pc\", \"sci.crypt\", \"sci.electronics\"]), \"target\"] = \"comp\"\n",
        "dataset_7topic.loc[dataset_7topic[\"target\"].isin([\"rec.vehicle\", \"rec_sport\"]), \"target\"] = \"rec\"\n"
      ],
      "execution_count": 28,
      "outputs": []
    },
    {
      "cell_type": "code",
      "metadata": {
        "id": "Py3zR1HVA1Tz"
      },
      "source": [
        "# 大きなまとまりでのトピック数でクラスタリング\n",
        "num_clusters = 7\n",
        "km7 = KMeansClusterer(num_clusters, distance=cosine_distance, repeats=10)"
      ],
      "execution_count": 29,
      "outputs": []
    },
    {
      "cell_type": "code",
      "metadata": {
        "id": "Yeo7dXP_Bd_d"
      },
      "source": [
        "clusters = km7.cluster(tf_idf, assign_clusters=True)"
      ],
      "execution_count": 30,
      "outputs": []
    },
    {
      "cell_type": "code",
      "metadata": {
        "id": "tyz6RHr2SFf7"
      },
      "source": [
        "dataset7_cluster_num = pd.concat([dataset_7topic, pd.Series(clusters)], axis=1)\n",
        "\n",
        "d7cn = dataset7_cluster_num.rename(columns={0: \"cluster_num\"})"
      ],
      "execution_count": 31,
      "outputs": []
    },
    {
      "cell_type": "code",
      "metadata": {
        "colab": {
          "base_uri": "https://localhost:8080/"
        },
        "id": "4zpFxksBSUVC",
        "outputId": "1036b82c-8edb-4527-f9fe-1f5e1bb8c7cf"
      },
      "source": [
        "d7cn[\"cluster_num\"].value_counts()"
      ],
      "execution_count": 32,
      "outputs": [
        {
          "output_type": "execute_result",
          "data": {
            "text/plain": [
              "0    201\n",
              "2    184\n",
              "1    153\n",
              "3     77\n",
              "5     70\n",
              "4     70\n",
              "6     45\n",
              "Name: cluster_num, dtype: int64"
            ]
          },
          "metadata": {
            "tags": []
          },
          "execution_count": 32
        }
      ]
    },
    {
      "cell_type": "code",
      "metadata": {
        "colab": {
          "base_uri": "https://localhost:8080/"
        },
        "id": "pzl32ntLSPFN",
        "outputId": "35795b6d-5e11-4e2a-8aaa-3316099e9076"
      },
      "source": [
        "for i in range(7):\n",
        "    print(\"Result of cluster No.{}\".format(i))\n",
        "    print(d7cn[d7cn[\"cluster_num\"]==i][\"target\"].value_counts())\n",
        "    print(\"\\n\")"
      ],
      "execution_count": 33,
      "outputs": [
        {
          "output_type": "stream",
          "text": [
            "Result of cluster No.0\n",
            "talk.politics    71\n",
            "rec              41\n",
            "comp             37\n",
            "religion         30\n",
            "sci.med           9\n",
            "sci.space         9\n",
            "misc.forsale      4\n",
            "Name: target, dtype: int64\n",
            "\n",
            "\n",
            "Result of cluster No.1\n",
            "religion         65\n",
            "talk.politics    32\n",
            "comp             20\n",
            "rec              17\n",
            "sci.med          13\n",
            "sci.space         5\n",
            "misc.forsale      1\n",
            "Name: target, dtype: int64\n",
            "\n",
            "\n",
            "Result of cluster No.2\n",
            "comp             114\n",
            "misc.forsale      30\n",
            "rec               24\n",
            "sci.med            6\n",
            "sci.space          6\n",
            "talk.politics      3\n",
            "religion           1\n",
            "Name: target, dtype: int64\n",
            "\n",
            "\n",
            "Result of cluster No.3\n",
            "comp            60\n",
            "religion         5\n",
            "misc.forsale     4\n",
            "rec              3\n",
            "sci.med          3\n",
            "sci.space        2\n",
            "Name: target, dtype: int64\n",
            "\n",
            "\n",
            "Result of cluster No.4\n",
            "rec              51\n",
            "comp              9\n",
            "talk.politics     5\n",
            "religion          3\n",
            "sci.med           2\n",
            "Name: target, dtype: int64\n",
            "\n",
            "\n",
            "Result of cluster No.5\n",
            "comp             22\n",
            "sci.space        15\n",
            "rec              13\n",
            "religion          9\n",
            "talk.politics     6\n",
            "sci.med           5\n",
            "Name: target, dtype: int64\n",
            "\n",
            "\n",
            "Result of cluster No.6\n",
            "comp             18\n",
            "rec              11\n",
            "religion          7\n",
            "sci.space         3\n",
            "talk.politics     3\n",
            "sci.med           2\n",
            "misc.forsale      1\n",
            "Name: target, dtype: int64\n",
            "\n",
            "\n"
          ],
          "name": "stdout"
        }
      ]
    },
    {
      "cell_type": "code",
      "metadata": {
        "id": "YOxlUEjweTRQ"
      },
      "source": [
        "def labels_array(df):\n",
        "    return df['target'].unique() \n",
        "\n",
        "\n",
        "def max_n_ij(df, labels_array, cluster_num):\n",
        "    df_cn = df.loc[df[\"cluster_num\"]==cluster_num]\n",
        "    \n",
        "    precision_list = []\n",
        "    for j, label in enumerate(labels_array):\n",
        "        intersection_size = len(df_cn.loc[df[\"target\"]==label])\n",
        "        precision_list.append(intersection_size)\n",
        "\n",
        "    return np.array(precision_list).max()\n",
        "\n",
        "\n",
        "def max_recall(df, i, labels_array):\n",
        "    recall_list = []\n",
        "    for label in labels_array:\n",
        "        df_label = df.loc[df[\"target\"]==label]\n",
        "        df_label_size = len(df_label)\n",
        "\n",
        "        intersection_size = len(df_label.loc[df_label['cluster_num']==i])\n",
        "        \n",
        "        recall_list.append(intersection_size/df_label_size)\n",
        "    \n",
        "    return np.array(recall_list).max()\n",
        "\n",
        "\n",
        "def purity(df, labels_array, num_clusters):\n",
        "    n = len(df)\n",
        "\n",
        "    purity_part_list = []\n",
        "    for i in range(num_clusters):\n",
        "        max_n_ij_val = max_n_ij(df, labels_array, i)\n",
        "        purity_part_list.append(max_n_ij_val)\n",
        "\n",
        "    return sum(purity_part_list) / n\n",
        "\n",
        "\n",
        "def inverse_purity(df, labels_array, num_clusters):\n",
        "    n = len(df)\n",
        "\n",
        "    inverse_purity_part_list = []\n",
        "\n",
        "    for i in range(num_clusters):\n",
        "        max_recall_val = max_recall(df, i, labels_array)\n",
        "        cluster_size = len(df.loc[df['cluster_num']==i])\n",
        "        inverse_purity_part_list.append(cluster_size * max_recall_val)\n",
        "\n",
        "    return sum(inverse_purity_part_list) / n\n",
        "\n",
        "\n",
        "def F_measure(purity_val, inverse_purity_val):\n",
        "    return (2 * purity_val * inverse_purity_val) / (purity_val + inverse_purity_val)\n"
      ],
      "execution_count": 34,
      "outputs": []
    },
    {
      "cell_type": "code",
      "metadata": {
        "id": "6VXn6BjqjBYA"
      },
      "source": [
        "# Purity when num_clusters is 20, 11, 7\n",
        "purity20 = purity(d20cn, list(d20cn['target'].unique()), 20)\n",
        "purity11 = purity(d11cn, list(d11cn['target'].unique()), 11)\n",
        "purity7 = purity(d7cn, list(d7cn['target'].unique()), 7)"
      ],
      "execution_count": 35,
      "outputs": []
    },
    {
      "cell_type": "code",
      "metadata": {
        "id": "iVSLGVLXmjie"
      },
      "source": [
        "# Inverse purity when num_clusters is 20, 11, 7\n",
        "inverse_purity20 = inverse_purity(d20cn, list(d20cn['target'].unique()), 20)\n",
        "inverse_purity11 = inverse_purity(d11cn, list(d11cn['target'].unique()), 11)\n",
        "inverse_purity7 = inverse_purity(d7cn, list(d7cn['target'].unique()), 7)"
      ],
      "execution_count": 36,
      "outputs": []
    },
    {
      "cell_type": "code",
      "metadata": {
        "id": "bLYK9V9mm0W1"
      },
      "source": [
        "# F-measure\n",
        "F_measure20 = F_measure(purity20, inverse_purity20)\n",
        "F_measure11 = F_measure(purity11, inverse_purity11)\n",
        "F_measure7 = F_measure(purity7, inverse_purity7)"
      ],
      "execution_count": 37,
      "outputs": []
    },
    {
      "cell_type": "code",
      "metadata": {
        "colab": {
          "base_uri": "https://localhost:8080/"
        },
        "id": "oGOHVwsxn_X-",
        "outputId": "7ed8943d-1b65-4e29-9bbf-308372a66878"
      },
      "source": [
        "# Result\n",
        "print(\"The purity when num_cluster is 20 is: \", round(purity20, 4))\n",
        "print(\"The purity when num_cluster is 11 is: \", round(purity11, 4))\n",
        "print(\"The purity when num_cluster is 7 is: \", round(purity7, 4))\n",
        "\n",
        "print(\"The inverse purity when num_cluster is 20 is:\", round(inverse_purity20, 4))\n",
        "print(\"The inverse purity when num_cluster is 11 is:\", round(inverse_purity11, 4))\n",
        "print(\"The inverse purity when num_cluster is 7 is:\", round(inverse_purity7, 4))\n",
        "\n",
        "print(\"The F-measure when num_cluster is 20 is:\", round(F_measure20, 4))\n",
        "print(\"The F-measure when num_cluster is 11 is:\", round(F_measure11, 4))\n",
        "print(\"The F-measure when num_cluster is 7 is:\", round(F_measure7, 4))"
      ],
      "execution_count": 38,
      "outputs": [
        {
          "output_type": "stream",
          "text": [
            "The purity when num_cluster is 20 is:  0.2725\n",
            "The purity when num_cluster is 11 is:  0.4225\n",
            "The purity when num_cluster is 7 is:  0.5012\n",
            "The inverse purity when num_cluster is 20 is: 0.3153\n",
            "The inverse purity when num_cluster is 11 is: 0.3717\n",
            "The inverse purity when num_cluster is 7 is: 0.5103\n",
            "The F-measure when num_cluster is 20 is: 0.2923\n",
            "The F-measure when num_cluster is 11 is: 0.3955\n",
            "The F-measure when num_cluster is 7 is: 0.5057\n"
          ],
          "name": "stdout"
        }
      ]
    }
  ]
}